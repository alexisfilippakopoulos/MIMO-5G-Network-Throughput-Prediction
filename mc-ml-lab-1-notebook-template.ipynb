{
 "cells": [
  {
   "cell_type": "markdown",
   "id": "137c8379",
   "metadata": {
    "id": "M7IkqlgaGLr2",
    "papermill": {
     "duration": 0.013916,
     "end_time": "2024-11-13T11:23:17.199342",
     "exception": false,
     "start_time": "2024-11-13T11:23:17.185426",
     "status": "completed"
    },
    "tags": []
   },
   "source": [
    "### 1. Εισαγωγή συνόλου δεδομένων\n",
    "\n",
    "Η κάθε ομάδα μπορεί να κατεβάσει το προσωποποιημένο σύνολο δεδομένων για το training-(validation)-test από [εδώ](https://drive.google.com/drive/folders/1lO6elfOldaqSw7k-UWvZBZTWKdmisp5b?usp=sharing).\n",
    "\n"
   ]
  },
  {
   "cell_type": "markdown",
   "id": "dc24ca61",
   "metadata": {
    "id": "Qe4uFFcv9XF3",
    "papermill": {
     "duration": 0.013666,
     "end_time": "2024-11-13T11:23:17.227318",
     "exception": false,
     "start_time": "2024-11-13T11:23:17.213652",
     "status": "completed"
    },
    "tags": []
   },
   "source": [
    "1.α. Φορτώστε το σύνολο δεδομένων στο notebook σας."
   ]
  },
  {
   "cell_type": "markdown",
   "id": "b343779e",
   "metadata": {
    "papermill": {
     "duration": 0.013761,
     "end_time": "2024-11-13T11:23:17.283830",
     "exception": false,
     "start_time": "2024-11-13T11:23:17.270069",
     "status": "completed"
    },
    "tags": []
   },
   "source": [
    "1.β. Τυπώστε τις πρώτες 5 ή 10 γραμμές του dataset για να δείτε ότι έχει φορτωθεί όπως πρέπει"
   ]
  },
  {
   "cell_type": "markdown",
   "id": "bf7d9aa9",
   "metadata": {
    "id": "wrxF1hO1HPpJ",
    "papermill": {
     "duration": 0.01378,
     "end_time": "2024-11-13T11:23:17.340263",
     "exception": false,
     "start_time": "2024-11-13T11:23:17.326483",
     "status": "completed"
    },
    "tags": []
   },
   "source": [
    "### 2. Διερευνητική ανάλυση δεδομένων -Exploratory Data Analysis (EDA) \n",
    "Με βάση το notebook της παρουσίασης της 2ης εργαστηριακής άσκησης δημιουργήστε code cells με τις κατάλληλες τεχνικές EDA για την κατανόηση του συνόλου δεδομένων. Συνίσταται η χρήση text cells για επεξήγηση των αποτελεσμάτων της EDA. "
   ]
  },
  {
   "cell_type": "markdown",
   "id": "e72e5842",
   "metadata": {
    "id": "fT33H0HPJ7Hg",
    "papermill": {
     "duration": 0.014185,
     "end_time": "2024-11-13T11:23:17.370424",
     "exception": false,
     "start_time": "2024-11-13T11:23:17.356239",
     "status": "completed"
    },
    "tags": []
   },
   "source": [
    "Χρησιμοποιώντας τις κατάλληλες μεθόδους παρουσιάστε με χρήση κώδικα πληροφορίες για τα εξής:\n",
    "\n",
    "2α. το πλήθος των δειγμάτων και των χαρακτηριστικών του συνόλου δεδομένων (είναι ισοροππημένο το σύνολο δεδομένων;),\n",
    "\n",
    "2β. το είδος των χαρακτηριστικών του συνόλου δεδομένων,  \n",
    "\n",
    "2γ. τις ετικέτες των χαρακτηριστικών,\n",
    "\n",
    "2δ. το πλήθος των κατηγοριών, \n",
    "\n",
    "2ε. πόσα δείγματα ανήκουν σε κάθε κατηγορία,\n",
    "\n",
    "2στ. τη συσχέτιση μεταξύ των δεδομένων,\n",
    "\n",
    "2ζ. οποιαδήποτε άλλη πληροφορία πιστεύετε ότι είναι χρήσιμη για την κατανόηση του συνόλου δεδομένων."
   ]
  },
  {
   "cell_type": "code",
   "execution_count": null,
   "id": "acab5358",
   "metadata": {
    "id": "6zhcKMB0VJJR",
    "outputId": "57cba0b2-8fa5-42be-c080-b050ebbc5042",
    "papermill": {
     "duration": 0.014235,
     "end_time": "2024-11-13T11:23:17.399551",
     "exception": false,
     "start_time": "2024-11-13T11:23:17.385316",
     "status": "completed"
    },
    "tags": []
   },
   "outputs": [],
   "source": []
  },
  {
   "cell_type": "markdown",
   "id": "b278688c",
   "metadata": {
    "id": "EbK3in0hNMeI",
    "papermill": {
     "duration": 0.014186,
     "end_time": "2024-11-13T11:23:17.427958",
     "exception": false,
     "start_time": "2024-11-13T11:23:17.413772",
     "status": "completed"
    },
    "tags": []
   },
   "source": [
    "### 3. Προεπεξεργασία συνόλου δεδομένων\n",
    "💡`Επεξεργαστείτε τα χαρακτηριστικά του συνόλου δεδομένων σας. Αν θεωρείτε ότι κάποια χαρακτηριστικά θα πρέπει να μετασχηματιστούν κάντε το χρησιμοποιώντας τους OneHotEncoder και LabelEncoder (αριθμητικά και κατηγορικά δεδομένα).`\n",
    "\n",
    "\n"
   ]
  },
  {
   "cell_type": "markdown",
   "id": "0ceb8540",
   "metadata": {
    "papermill": {
     "duration": 0.01395,
     "end_time": "2024-11-13T11:23:17.456178",
     "exception": false,
     "start_time": "2024-11-13T11:23:17.442228",
     "status": "completed"
    },
    "tags": []
   },
   "source": [
    "3.α.  Το σύνολο δεδομένων σας περιέχει Null values; Αν όχι αποδείξτε το με κατάλληλη εντολή. Αν ναι θα αντικαταστήσετε αυτές τις τιμές ή θα τις παραλείψετε απλώς. (Εξηγήστε)"
   ]
  },
  {
   "cell_type": "code",
   "execution_count": null,
   "id": "2f982a4b",
   "metadata": {
    "papermill": {
     "duration": 0.013623,
     "end_time": "2024-11-13T11:23:17.483995",
     "exception": false,
     "start_time": "2024-11-13T11:23:17.470372",
     "status": "completed"
    },
    "tags": []
   },
   "outputs": [],
   "source": []
  },
  {
   "cell_type": "markdown",
   "id": "c447fa9d",
   "metadata": {
    "id": "mKsQVCnLQZ30",
    "papermill": {
     "duration": 0.013865,
     "end_time": "2024-11-13T11:23:17.511943",
     "exception": false,
     "start_time": "2024-11-13T11:23:17.498078",
     "status": "completed"
    },
    "tags": []
   },
   "source": [
    "3.β.  Θα χρησιμοποιήσετε όλα τα χαρακτηριστικά του συνόλου δεδομένων για την εκπαίδευση των ML models ή κάνετε κάποια επιλογή;  Εξηγήστε. \n"
   ]
  },
  {
   "cell_type": "code",
   "execution_count": null,
   "id": "12e95d75",
   "metadata": {
    "papermill": {
     "duration": 0.013756,
     "end_time": "2024-11-13T11:23:17.540000",
     "exception": false,
     "start_time": "2024-11-13T11:23:17.526244",
     "status": "completed"
    },
    "tags": []
   },
   "outputs": [],
   "source": []
  },
  {
   "cell_type": "markdown",
   "id": "77836472",
   "metadata": {
    "id": "GPCa3SklNmBe",
    "papermill": {
     "duration": 0.013754,
     "end_time": "2024-11-13T11:23:17.567861",
     "exception": false,
     "start_time": "2024-11-13T11:23:17.554107",
     "status": "completed"
    },
    "tags": []
   },
   "source": [
    "3.γ. Υπάρχουν απουσιάζουσες τιμές; Γράψτε κατάλληλο κώδικα ώστε να χειριστείτε αυτές τις τιμές."
   ]
  },
  {
   "cell_type": "code",
   "execution_count": null,
   "id": "c093c8e1",
   "metadata": {
    "papermill": {
     "duration": 0.013903,
     "end_time": "2024-11-13T11:23:17.596033",
     "exception": false,
     "start_time": "2024-11-13T11:23:17.582130",
     "status": "completed"
    },
    "tags": []
   },
   "outputs": [],
   "source": []
  },
  {
   "cell_type": "markdown",
   "id": "3abe2707",
   "metadata": {
    "id": "KWsb4KQmQiFc",
    "papermill": {
     "duration": 0.014799,
     "end_time": "2024-11-13T11:23:17.625320",
     "exception": false,
     "start_time": "2024-11-13T11:23:17.610521",
     "status": "completed"
    },
    "tags": []
   },
   "source": [
    "3.δ. Επιτελέστε κλιμάκωση των χαρακτηριστικών του συνόλου δεδομένων σας (αν την θεωρείτε απαραίτητη). Σε αυτήν την περίπτωση χρησιμοποιήστε τον MimMaxScaler"
   ]
  },
  {
   "cell_type": "code",
   "execution_count": null,
   "id": "8b8d91d5",
   "metadata": {
    "id": "EXkL_EFfNom-",
    "papermill": {
     "duration": 0.013994,
     "end_time": "2024-11-13T11:23:17.653605",
     "exception": false,
     "start_time": "2024-11-13T11:23:17.639611",
     "status": "completed"
    },
    "tags": []
   },
   "outputs": [],
   "source": []
  },
  {
   "cell_type": "markdown",
   "id": "31de40fa",
   "metadata": {
    "id": "OeD8amKKLJFr",
    "papermill": {
     "duration": 0.013957,
     "end_time": "2024-11-13T11:23:17.683168",
     "exception": false,
     "start_time": "2024-11-13T11:23:17.669211",
     "status": "completed"
    },
    "tags": []
   },
   "source": [
    "3.ε. Αφού έχετε επεξεργαστεί (μέσω των προηγουμένων βημάτων) το σύνολο δεδομένων σας, χωρίστε το σε σύνολο εκπαίδευσης και σύνολο επαλήθευσης. Ξεκινήστε με μια αναλογία 80%-20%. Πειραματιστείτε με διαφορετικές τιμές αν το κρίνετε απαραίτητο για την βελτίωση των δεικτών απόδοσης.\n",
    "\n",
    "💡 `Η στήλη 'Troughput' είναι αυτή που θα πρέπει να χρησιμοποιηθεί ως μεταβλητή απόκρισης στο regression πρόβλημα που καλείστε να επιλύσετε.` "
   ]
  },
  {
   "cell_type": "code",
   "execution_count": null,
   "id": "7319878c",
   "metadata": {
    "papermill": {
     "duration": 0.014469,
     "end_time": "2024-11-13T11:23:17.712059",
     "exception": false,
     "start_time": "2024-11-13T11:23:17.697590",
     "status": "completed"
    },
    "tags": []
   },
   "outputs": [],
   "source": []
  },
  {
   "cell_type": "markdown",
   "id": "7fd63e9e",
   "metadata": {
    "papermill": {
     "duration": 0.013839,
     "end_time": "2024-11-13T11:23:17.740639",
     "exception": false,
     "start_time": "2024-11-13T11:23:17.726800",
     "status": "completed"
    },
    "tags": []
   },
   "source": [
    "3.στ. Χρησιμοποιήστε την τεχνική Chi-Squared Feature Selection για να μελετήσετε την σημαντικότητα του εκάστοτε χαρακτηριστικού"
   ]
  },
  {
   "cell_type": "code",
   "execution_count": null,
   "id": "7b675180",
   "metadata": {
    "papermill": {
     "duration": 0.013855,
     "end_time": "2024-11-13T11:23:17.769031",
     "exception": false,
     "start_time": "2024-11-13T11:23:17.755176",
     "status": "completed"
    },
    "tags": []
   },
   "outputs": [],
   "source": []
  },
  {
   "cell_type": "markdown",
   "id": "a108d640",
   "metadata": {
    "papermill": {
     "duration": 0.013759,
     "end_time": "2024-11-13T11:23:17.797272",
     "exception": false,
     "start_time": "2024-11-13T11:23:17.783513",
     "status": "completed"
    },
    "tags": []
   },
   "source": [
    "3.ζ. Δημιουργήστε κατάλληλο διάγραμμα ώστε να αποτυπώσετε την μελετούμενη σημαντικότητα"
   ]
  },
  {
   "cell_type": "markdown",
   "id": "4090fc9d",
   "metadata": {
    "id": "xhITyhMuSslH",
    "papermill": {
     "duration": 0.014025,
     "end_time": "2024-11-13T11:23:17.827092",
     "exception": false,
     "start_time": "2024-11-13T11:23:17.813067",
     "status": "completed"
    },
    "tags": []
   },
   "source": [
    "### 4. Εκπαίδευση ML μοντέλων για την αντιμετώπιση του Throughput prediction ως πρόβλημα παλινδρόμισης\n",
    "\n",
    "Θα εκπαιδεύσετε τους ML αλγορίθμους που σας έχουν γνωστοποιηθεί μέσω προσωπικού μηνύματος ξεκινώντας με default τιμές στις παραμέτρους αυτών\n"
   ]
  },
  {
   "cell_type": "markdown",
   "id": "6fba1357",
   "metadata": {
    "papermill": {
     "duration": 0.014362,
     "end_time": "2024-11-13T11:23:17.855700",
     "exception": false,
     "start_time": "2024-11-13T11:23:17.841338",
     "status": "completed"
    },
    "tags": []
   },
   "source": [
    "4.α. Φορτώστε τις κατάλληλες βιβλιοθήκες"
   ]
  },
  {
   "cell_type": "code",
   "execution_count": null,
   "id": "6f95bb4c",
   "metadata": {
    "papermill": {
     "duration": 0.013947,
     "end_time": "2024-11-13T11:23:17.884231",
     "exception": false,
     "start_time": "2024-11-13T11:23:17.870284",
     "status": "completed"
    },
    "tags": []
   },
   "outputs": [],
   "source": []
  },
  {
   "cell_type": "markdown",
   "id": "b5330824",
   "metadata": {
    "id": "a49EG4Z9U0yD",
    "papermill": {
     "duration": 0.013842,
     "end_time": "2024-11-13T11:23:17.912137",
     "exception": false,
     "start_time": "2024-11-13T11:23:17.898295",
     "status": "completed"
    },
    "tags": []
   },
   "source": [
    "4.β. Εκπαιδεύστε (fit) τους ML αλγορίθμους σας χρησιμοποιώντας τις default τιμές για όλες τις παραμέτρους τους."
   ]
  },
  {
   "cell_type": "code",
   "execution_count": null,
   "id": "f55715a6",
   "metadata": {
    "id": "-_kDpm_sWRjs",
    "outputId": "90fa77f2-196d-4ade-a420-29344c7a962c",
    "papermill": {
     "duration": 0.014019,
     "end_time": "2024-11-13T11:23:17.940233",
     "exception": false,
     "start_time": "2024-11-13T11:23:17.926214",
     "status": "completed"
    },
    "tags": []
   },
   "outputs": [],
   "source": []
  },
  {
   "cell_type": "markdown",
   "id": "4adb928d",
   "metadata": {
    "id": "dkv21zidSgNX",
    "papermill": {
     "duration": 0.01393,
     "end_time": "2024-11-13T11:23:17.968488",
     "exception": false,
     "start_time": "2024-11-13T11:23:17.954558",
     "status": "completed"
    },
    "tags": []
   },
   "source": [
    "4.γ. Εφαρμόστε στα εκπαιδευμένα μοντέλα από το test set μόνο τα δείγματα χωρίς την ετικέτα τους (predict).\n"
   ]
  },
  {
   "cell_type": "code",
   "execution_count": null,
   "id": "fdcd67f7",
   "metadata": {
    "id": "3DqkKHMZQaDe",
    "outputId": "7b481bcb-9d30-4a45-a428-3b23028e094c",
    "papermill": {
     "duration": 0.013655,
     "end_time": "2024-11-13T11:23:17.996173",
     "exception": false,
     "start_time": "2024-11-13T11:23:17.982518",
     "status": "completed"
    },
    "tags": []
   },
   "outputs": [],
   "source": []
  },
  {
   "cell_type": "markdown",
   "id": "cf0e8e1d",
   "metadata": {
    "id": "BsvLlbPRWaa_",
    "papermill": {
     "duration": 0.014175,
     "end_time": "2024-11-13T11:23:18.024943",
     "exception": false,
     "start_time": "2024-11-13T11:23:18.010768",
     "status": "completed"
    },
    "tags": []
   },
   "source": [
    "4.δ. Συγκρίνετε την έξοδο του κάθε μοντέλου σε σχέση με τις αντίστοιχες ετικέτες του test set και αξιολογήστε την επιδοσή τους χρησιμοποιώντας τις ML μετρικές (ML KPIs) που αναφέρονται στην εκφώνηση της 2ης εργαστηριακής άσκησης (θα χρειαστεί import των αντίστοιχων μετρικών από το sklearn)."
   ]
  },
  {
   "cell_type": "code",
   "execution_count": null,
   "id": "3d94a3ff",
   "metadata": {
    "id": "9jkFxtNbWZvY",
    "outputId": "d8da7872-e082-41f5-a82e-a56273b81bfb",
    "papermill": {
     "duration": 0.014538,
     "end_time": "2024-11-13T11:23:18.053678",
     "exception": false,
     "start_time": "2024-11-13T11:23:18.039140",
     "status": "completed"
    },
    "tags": []
   },
   "outputs": [],
   "source": []
  },
  {
   "cell_type": "markdown",
   "id": "2c8eada7",
   "metadata": {
    "id": "F1SXqT2vWZTh",
    "papermill": {
     "duration": 0.014379,
     "end_time": "2024-11-13T11:23:18.083166",
     "exception": false,
     "start_time": "2024-11-13T11:23:18.068787",
     "status": "completed"
    },
    "tags": []
   },
   "source": [
    "4.στ. Απεικονίστε την παραπάνω αξιολόγηση με χρήση γραφήματος/γραφημάτων (π.χ. ιστόγραμμα, bar plot κατά προτίμιση της Matplotlib)"
   ]
  },
  {
   "cell_type": "code",
   "execution_count": null,
   "id": "ea4f01cc",
   "metadata": {
    "id": "UOiOlTcJjISQ",
    "outputId": "b3ac77b7-9de9-4535-a9e5-1a88ee6f26fa",
    "papermill": {
     "duration": 0.013758,
     "end_time": "2024-11-13T11:23:18.111100",
     "exception": false,
     "start_time": "2024-11-13T11:23:18.097342",
     "status": "completed"
    },
    "tags": []
   },
   "outputs": [],
   "source": []
  },
  {
   "cell_type": "markdown",
   "id": "194c829d",
   "metadata": {
    "papermill": {
     "duration": 0.013903,
     "end_time": "2024-11-13T11:23:18.139264",
     "exception": false,
     "start_time": "2024-11-13T11:23:18.125361",
     "status": "completed"
    },
    "tags": []
   },
   "source": [
    "4.ζ Σχολιάστε στην αναφορά σας το ποιο μοντέλο είχε την καλύτερη επίδοση. Ήταν αυτό αναμενόμενο με βάση τη θεωρία του 3.2 κεφαλαίου των σημειώσεών σας;"
   ]
  },
  {
   "cell_type": "code",
   "execution_count": null,
   "id": "0d10b836",
   "metadata": {
    "id": "dfg2NZ0MzAn1",
    "outputId": "965b0df7-a292-4e13-cdbc-6358d7540112",
    "papermill": {
     "duration": 0.013737,
     "end_time": "2024-11-13T11:23:18.167325",
     "exception": false,
     "start_time": "2024-11-13T11:23:18.153588",
     "status": "completed"
    },
    "tags": []
   },
   "outputs": [],
   "source": []
  },
  {
   "cell_type": "markdown",
   "id": "38ec10b9",
   "metadata": {
    "papermill": {
     "duration": 0.014493,
     "end_time": "2024-11-13T11:23:18.197925",
     "exception": false,
     "start_time": "2024-11-13T11:23:18.183432",
     "status": "completed"
    },
    "tags": []
   },
   "source": [
    "4.η Κάνοντας δοκιμές στις υπερπαραμέτρους των ML αλγορίθμων που υλοποιήσατε, προσπαθήστε να βελτιώσετε την επίδοσή τους με βάση τις μετρικές τις οποίες έχετε επιλέξει"
   ]
  },
  {
   "cell_type": "markdown",
   "id": "0b269b40",
   "metadata": {
    "id": "j6OoLlxrYILN",
    "papermill": {
     "duration": 0.014182,
     "end_time": "2024-11-13T11:23:18.227581",
     "exception": false,
     "start_time": "2024-11-13T11:23:18.213399",
     "status": "completed"
    },
    "tags": []
   },
   "source": [
    "### Bonus Ερώτημα\n",
    "\n",
    "Για μια πιο αποτελεσματική εύρεση των υπερπαραμέτρων που βελτιστοποιούν την απόδοση των ML αλγορίθμων, γίνεται χρήση κάποιας συστηματικής αναζήτησης. Δοκιμάστε αναζήτηση πλέγματος με διασταυρούμενη επικύρωση (k-fold 10) (Πληροφορίες [εδώ](https://scikit-learn.org/stable/modules/generated/sklearn.model_selection.GridSearchCV.html#sklearn.model_selection.GridSearchCV)) ή/και HalvingGridSearch (Πληροφορίες [εδώ](https://scikit-learn.org/stable/modules/generated/sklearn.model_selection.HalvingGridSearchCV.html)) με σκοπό την εύρεση των βέλτιστων υπερπαραμέτρων. "
   ]
  },
  {
   "cell_type": "code",
   "execution_count": null,
   "id": "84670dc3",
   "metadata": {
    "id": "FK_zetZLlOeV",
    "outputId": "974dc9dd-390d-433b-851c-3060eae8baa4",
    "papermill": {
     "duration": 0.014199,
     "end_time": "2024-11-13T11:23:18.255903",
     "exception": false,
     "start_time": "2024-11-13T11:23:18.241704",
     "status": "completed"
    },
    "tags": []
   },
   "outputs": [],
   "source": []
  },
  {
   "cell_type": "markdown",
   "id": "32d21067",
   "metadata": {
    "id": "KD2jGJgUloMW",
    "papermill": {
     "duration": 0.013967,
     "end_time": "2024-11-13T11:23:18.284959",
     "exception": false,
     "start_time": "2024-11-13T11:23:18.270992",
     "status": "completed"
    },
    "tags": []
   },
   "source": [
    "Εφαρμόστε στα εκπαιδευμένα μοντέλα από το test set μόνο τα δείγματα χωρίς την ετικέτα τους (predict)."
   ]
  },
  {
   "cell_type": "code",
   "execution_count": null,
   "id": "ec44db89",
   "metadata": {
    "id": "ANPd125TloMW",
    "papermill": {
     "duration": 0.013879,
     "end_time": "2024-11-13T11:23:18.313310",
     "exception": false,
     "start_time": "2024-11-13T11:23:18.299431",
     "status": "completed"
    },
    "tags": []
   },
   "outputs": [],
   "source": []
  },
  {
   "cell_type": "markdown",
   "id": "a43d2077",
   "metadata": {
    "id": "hj_7xTZ-loMW",
    "papermill": {
     "duration": 0.013718,
     "end_time": "2024-11-13T11:23:18.341060",
     "exception": false,
     "start_time": "2024-11-13T11:23:18.327342",
     "status": "completed"
    },
    "tags": []
   },
   "source": [
    "Συγκρίνετε την έξοδο του κάθε μοντέλου σε σχέση με τις αντίστοιχες ετικέτες του test set και αξιολογήστε την επιδοσή τους χρησιμοποιώντας τις ML μετρικές (ML KPIs) που αναφέρονται στην εκφώνηση της 2ης εργαστηριακής άσκησης."
   ]
  },
  {
   "cell_type": "code",
   "execution_count": null,
   "id": "b00cda6b",
   "metadata": {
    "id": "YsJB5GanloMW",
    "papermill": {
     "duration": 0.014349,
     "end_time": "2024-11-13T11:23:18.369535",
     "exception": false,
     "start_time": "2024-11-13T11:23:18.355186",
     "status": "completed"
    },
    "tags": []
   },
   "outputs": [],
   "source": []
  },
  {
   "cell_type": "markdown",
   "id": "abfd0379",
   "metadata": {
    "id": "l6vs5gOQloMW",
    "papermill": {
     "duration": 0.015041,
     "end_time": "2024-11-13T11:23:18.399115",
     "exception": false,
     "start_time": "2024-11-13T11:23:18.384074",
     "status": "completed"
    },
    "tags": []
   },
   "source": [
    "Απεικονίστε την παραπάνω αξιολόγηση με χρήση γραφήματος/γραφημάτων (π.χ. ιστόγραμμα, bar plot κατά προτίμιση της Matplotlib)"
   ]
  },
  {
   "cell_type": "code",
   "execution_count": null,
   "id": "a36dbd37",
   "metadata": {
    "id": "EsAWlUCUloMX",
    "papermill": {
     "duration": 0.01409,
     "end_time": "2024-11-13T11:23:18.428772",
     "exception": false,
     "start_time": "2024-11-13T11:23:18.414682",
     "status": "completed"
    },
    "tags": []
   },
   "outputs": [],
   "source": []
  },
  {
   "cell_type": "markdown",
   "id": "c4aada96",
   "metadata": {
    "papermill": {
     "duration": 0.013958,
     "end_time": "2024-11-13T11:23:18.457095",
     "exception": false,
     "start_time": "2024-11-13T11:23:18.443137",
     "status": "completed"
    },
    "tags": []
   },
   "source": [
    "Σχολιάστε στην αναφορά σας το ποιο μοντέλο είχε την καλύτερη επίδοση. Ήταν αυτό αναμενόμενο με βάση τη θεωρία του 3.2 κεφαλαίου των σημειώσεών σας; Σχολιάστε επίσης την βελτίωση σε σχέση με την default υλοποίηση"
   ]
  },
  {
   "cell_type": "code",
   "execution_count": null,
   "id": "b2e213cb",
   "metadata": {
    "id": "HlEBQIOnmItV",
    "papermill": {
     "duration": 0.013998,
     "end_time": "2024-11-13T11:23:18.485805",
     "exception": false,
     "start_time": "2024-11-13T11:23:18.471807",
     "status": "completed"
    },
    "tags": []
   },
   "outputs": [],
   "source": []
  }
 ],
 "metadata": {
  "colab": {
   "collapsed_sections": [
    "DrWizICNmItV"
   ],
   "provenance": []
  },
  "kaggle": {
   "accelerator": "none",
   "dataSources": [],
   "dockerImageVersionId": 30301,
   "isGpuEnabled": false,
   "isInternetEnabled": false,
   "language": "python",
   "sourceType": "notebook"
  },
  "kernelspec": {
   "display_name": "base",
   "language": "python",
   "name": "python3"
  },
  "language_info": {
   "codemirror_mode": {
    "name": "ipython",
    "version": 3
   },
   "file_extension": ".py",
   "mimetype": "text/x-python",
   "name": "python",
   "nbconvert_exporter": "python",
   "pygments_lexer": "ipython3",
   "version": "3.12.7"
  },
  "papermill": {
   "default_parameters": {},
   "duration": 14.398134,
   "end_time": "2024-11-13T11:23:19.229130",
   "environment_variables": {},
   "exception": null,
   "input_path": "__notebook__.ipynb",
   "output_path": "__notebook__.ipynb",
   "parameters": {},
   "start_time": "2024-11-13T11:23:04.830996",
   "version": "2.3.4"
  }
 },
 "nbformat": 4,
 "nbformat_minor": 5
}
